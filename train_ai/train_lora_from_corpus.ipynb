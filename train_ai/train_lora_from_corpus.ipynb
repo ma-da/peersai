{
 "cells": [
  {
   "cell_type": "markdown",
   "id": "f33b66ba-ccc7-4574-aeca-42fffd34b010",
   "metadata": {},
   "source": [
    "# Train Lora from corpus version 1\n",
    "This is the first pass at training a lora"
   ]
  },
  {
   "cell_type": "markdown",
   "id": "6c79ed87-dfda-42e2-8b54-c752a5b33045",
   "metadata": {},
   "source": [
    "# Load model with Unsloth patching"
   ]
  },
  {
   "cell_type": "code",
   "execution_count": 2,
   "id": "aa2c6f34-248c-4775-925d-371ebcddbe34",
   "metadata": {
    "execution": {
     "iopub.execute_input": "2025-08-21T14:41:26.249842Z",
     "iopub.status.busy": "2025-08-21T14:41:26.249596Z",
     "iopub.status.idle": "2025-08-21T14:41:45.893819Z",
     "shell.execute_reply": "2025-08-21T14:41:45.893041Z",
     "shell.execute_reply.started": "2025-08-21T14:41:26.249825Z"
    }
   },
   "outputs": [
    {
     "name": "stdout",
     "output_type": "stream",
     "text": [
      "==((====))==  Unsloth 2025.7.11: Fast Llama patching. Transformers: 4.53.2. vLLM: 0.9.2.\n",
      "   \\\\   /|    NVIDIA RTX A4000. Num GPUs = 1. Max memory: 15.724 GB. Platform: Linux.\n",
      "O^O/ \\_/ \\    Torch: 2.7.0+cu126. CUDA: 8.6. CUDA Toolkit: 12.6. Triton: 3.3.0\n",
      "\\        /    Bfloat16 = TRUE. FA [Xformers = 0.0.30. FA2 = False]\n",
      " \"-____-\"     Free license: http://github.com/unslothai/unsloth\n",
      "Unsloth: Fast downloading is enabled - ignore downloading bars which are red colored!\n"
     ]
    },
    {
     "data": {
      "application/vnd.jupyter.widget-view+json": {
       "model_id": "60afb63ec10f4b23a1146fc88e4c3695",
       "version_major": 2,
       "version_minor": 0
      },
      "text/plain": [
       "Loading checkpoint shards:   0%|          | 0/2 [00:00<?, ?it/s]"
      ]
     },
     "metadata": {},
     "output_type": "display_data"
    },
    {
     "name": "stdout",
     "output_type": "stream",
     "text": [
      "deepseek-ai/deepseek-llm-7b-base does not have a padding token! Will use pad_token = <|PAD_TOKEN|>.\n",
      "Loaded model in 4-bit ✅\n"
     ]
    }
   ],
   "source": [
    "from unsloth import FastLanguageModel\n",
    "\n",
    "model, tokenizer = FastLanguageModel.from_pretrained(\n",
    "    model_name=\"deepseek-ai/deepseek-llm-7b-base\",\n",
    "    max_seq_length=1024,\n",
    "    load_in_4bit=True,\n",
    ")\n",
    "\n",
    "print(\"Loaded model in 4-bit ✅\")"
   ]
  },
  {
   "cell_type": "markdown",
   "id": "3fb33062-ab65-4d8a-b93b-5f479a7b2348",
   "metadata": {},
   "source": [
    "# Apply LoRa adapter"
   ]
  },
  {
   "cell_type": "code",
   "execution_count": 2,
   "id": "56b5be22-069d-4e28-b475-5586a3880c6f",
   "metadata": {
    "execution": {
     "iopub.execute_input": "2025-08-20T02:29:21.454478Z",
     "iopub.status.busy": "2025-08-20T02:29:21.454176Z",
     "iopub.status.idle": "2025-08-20T02:29:22.971851Z",
     "shell.execute_reply": "2025-08-20T02:29:22.971144Z",
     "shell.execute_reply.started": "2025-08-20T02:29:21.454456Z"
    }
   },
   "outputs": [
    {
     "name": "stderr",
     "output_type": "stream",
     "text": [
      "Unsloth: Dropout = 0 is supported for fast patching. You are using dropout = 0.05.\n",
      "Unsloth will patch all other layers, except LoRA matrices, causing a performance hit.\n",
      "Unsloth 2025.7.11 patched 30 layers with 0 QKV layers, 0 O layers and 0 MLP layers.\n"
     ]
    },
    {
     "name": "stdout",
     "output_type": "stream",
     "text": [
      "Loaded peft model ✅\n"
     ]
    }
   ],
   "source": [
    "peft_model = FastLanguageModel.get_peft_model(\n",
    "    model,\n",
    "    r=8,\n",
    "    lora_alpha=16,\n",
    "    lora_dropout=0.05,\n",
    "    target_modules=[\"q_proj\", \"v_proj\"],\n",
    "    bias=\"none\",\n",
    "    use_gradient_checkpointing=True,\n",
    ")\n",
    "print(\"Loaded peft model ✅\")\n"
   ]
  },
  {
   "cell_type": "markdown",
   "id": "4eb14cbf-bc3c-493c-aea9-a0cd692b3c6e",
   "metadata": {},
   "source": [
    "# Load the dataset from corpus"
   ]
  },
  {
   "cell_type": "code",
   "execution_count": 4,
   "id": "57c3313f-f3c6-4c6b-82e6-24066fff2b6f",
   "metadata": {
    "execution": {
     "iopub.execute_input": "2025-08-20T02:29:47.795009Z",
     "iopub.status.busy": "2025-08-20T02:29:47.794801Z",
     "iopub.status.idle": "2025-08-20T02:29:47.860776Z",
     "shell.execute_reply": "2025-08-20T02:29:47.860185Z",
     "shell.execute_reply.started": "2025-08-20T02:29:47.794993Z"
    }
   },
   "outputs": [
    {
     "name": "stdout",
     "output_type": "stream",
     "text": [
      "Loaded dataset from corpus /datasets/wtk_archive_with_stops with len 23589635 ✅\n"
     ]
    }
   ],
   "source": [
    "import os \n",
    "\n",
    "CORPUS_DIR = \"/datasets/wtk_archive_with_stops\"\n",
    "BLOCK_SIZE = 1024  # max tokens per chunk\n",
    "\n",
    "def load_txt_corpus(directory):\n",
    "    texts = []\n",
    "    for filename in os.listdir(directory):\n",
    "        if filename.endswith(\".txt\"):\n",
    "            path = os.path.join(directory, filename)\n",
    "            with open(path, \"r\", encoding=\"utf-8\") as f:\n",
    "                texts.append(f.read() + \" \" + tok.eos_token)\n",
    "    return \"\\n\\n\".join(texts)\n",
    "\n",
    "raw_text = load_txt_corpus(CORPUS_DIR)\n",
    "\n",
    "print(f\"Loaded dataset from corpus {CORPUS_DIR} with len {len(raw_text)} ✅\")"
   ]
  },
  {
   "cell_type": "markdown",
   "id": "1a7b7338-fe09-44c8-bb6b-04160e7590aa",
   "metadata": {},
   "source": [
    "# Chunk into token blocks"
   ]
  },
  {
   "cell_type": "code",
   "execution_count": 5,
   "id": "f578ad34-cfa9-4fde-808d-68d25e568615",
   "metadata": {
    "execution": {
     "iopub.execute_input": "2025-08-20T02:29:50.377533Z",
     "iopub.status.busy": "2025-08-20T02:29:50.377292Z",
     "iopub.status.idle": "2025-08-20T02:30:17.566434Z",
     "shell.execute_reply": "2025-08-20T02:30:17.565815Z",
     "shell.execute_reply.started": "2025-08-20T02:29:50.377514Z"
    }
   },
   "outputs": [
    {
     "name": "stdout",
     "output_type": "stream",
     "text": [
      "Prepared 4883 training chunks ✅\n"
     ]
    }
   ],
   "source": [
    "from datasets import Dataset\n",
    "\n",
    "def chunk_text_into_blocks(text, tokenizer, block_size):\n",
    "    input_ids = tokenizer(text, return_tensors=\"pt\", truncation=False)[\"input_ids\"][0]\n",
    "    chunks = []\n",
    "    for i in range(0, len(input_ids) - block_size + 1, block_size):\n",
    "        chunk_ids = input_ids[i:i + block_size]\n",
    "        chunk_text = tokenizer.decode(chunk_ids, skip_special_tokens=True)\n",
    "        chunks.append({\"text\": chunk_text})\n",
    "    return chunks\n",
    "\n",
    "token_chunks = chunk_text_into_blocks(raw_text, tok, BLOCK_SIZE)\n",
    "dataset = Dataset.from_list(token_chunks)\n",
    "print(f\"Prepared {len(dataset)} training chunks ✅\")"
   ]
  },
  {
   "cell_type": "markdown",
   "id": "c2487727-e6d3-4f61-b796-da0341da4ba8",
   "metadata": {},
   "source": [
    "# Train using SFTTrainer (version 1)"
   ]
  },
  {
   "cell_type": "code",
   "execution_count": null,
   "id": "4397391a-3c57-494a-a13e-33d4f22d97e5",
   "metadata": {
    "execution": {
     "iopub.execute_input": "2025-08-20T02:31:04.024997Z",
     "iopub.status.busy": "2025-08-20T02:31:04.024740Z"
    }
   },
   "outputs": [
    {
     "data": {
      "application/vnd.jupyter.widget-view+json": {
       "model_id": "1e29e9c7877c4fbeaff9c4538a9e8478",
       "version_major": 2,
       "version_minor": 0
      },
      "text/plain": [
       "Unsloth: Tokenizing [\"text\"] (num_proc=2):   0%|          | 0/4883 [00:00<?, ? examples/s]"
      ]
     },
     "metadata": {},
     "output_type": "display_data"
    },
    {
     "name": "stderr",
     "output_type": "stream",
     "text": [
      "==((====))==  Unsloth - 2x faster free finetuning | Num GPUs used = 1\n",
      "   \\\\   /|    Num examples = 4,883 | Num Epochs = 3 | Total steps = 1,833\n",
      "O^O/ \\_/ \\    Batch size per device = 4 | Gradient accumulation steps = 2\n",
      "\\        /    Data Parallel GPUs = 1 | Total batch size (4 x 2 x 1) = 8\n",
      " \"-____-\"     Trainable parameters = 3,932,160 of 6,914,297,856 (0.06% trained)\n"
     ]
    },
    {
     "name": "stdout",
     "output_type": "stream",
     "text": [
      "Unsloth: Will smartly offload gradients to save VRAM!\n"
     ]
    },
    {
     "data": {
      "text/html": [
       "\n",
       "    <div>\n",
       "      \n",
       "      <progress value='21' max='1833' style='width:300px; height:20px; vertical-align: middle;'></progress>\n",
       "      [  21/1833 02:25 < 3:50:30, 0.13 it/s, Epoch 0.03/3]\n",
       "    </div>\n",
       "    <table border=\"1\" class=\"dataframe\">\n",
       "  <thead>\n",
       " <tr style=\"text-align: left;\">\n",
       "      <th>Step</th>\n",
       "      <th>Training Loss</th>\n",
       "    </tr>\n",
       "  </thead>\n",
       "  <tbody>\n",
       "    <tr>\n",
       "      <td>1</td>\n",
       "      <td>2.293700</td>\n",
       "    </tr>\n",
       "    <tr>\n",
       "      <td>2</td>\n",
       "      <td>2.301600</td>\n",
       "    </tr>\n",
       "    <tr>\n",
       "      <td>3</td>\n",
       "      <td>2.305800</td>\n",
       "    </tr>\n",
       "    <tr>\n",
       "      <td>4</td>\n",
       "      <td>2.371800</td>\n",
       "    </tr>\n",
       "    <tr>\n",
       "      <td>5</td>\n",
       "      <td>2.216900</td>\n",
       "    </tr>\n",
       "    <tr>\n",
       "      <td>6</td>\n",
       "      <td>2.289900</td>\n",
       "    </tr>\n",
       "    <tr>\n",
       "      <td>7</td>\n",
       "      <td>2.240800</td>\n",
       "    </tr>\n",
       "    <tr>\n",
       "      <td>8</td>\n",
       "      <td>2.280000</td>\n",
       "    </tr>\n",
       "    <tr>\n",
       "      <td>9</td>\n",
       "      <td>2.229600</td>\n",
       "    </tr>\n",
       "    <tr>\n",
       "      <td>10</td>\n",
       "      <td>2.287900</td>\n",
       "    </tr>\n",
       "    <tr>\n",
       "      <td>11</td>\n",
       "      <td>2.218600</td>\n",
       "    </tr>\n",
       "    <tr>\n",
       "      <td>12</td>\n",
       "      <td>2.255700</td>\n",
       "    </tr>\n",
       "    <tr>\n",
       "      <td>13</td>\n",
       "      <td>2.266900</td>\n",
       "    </tr>\n",
       "    <tr>\n",
       "      <td>14</td>\n",
       "      <td>2.254000</td>\n",
       "    </tr>\n",
       "    <tr>\n",
       "      <td>15</td>\n",
       "      <td>2.235200</td>\n",
       "    </tr>\n",
       "    <tr>\n",
       "      <td>16</td>\n",
       "      <td>2.258200</td>\n",
       "    </tr>\n",
       "    <tr>\n",
       "      <td>17</td>\n",
       "      <td>2.207600</td>\n",
       "    </tr>\n",
       "    <tr>\n",
       "      <td>18</td>\n",
       "      <td>2.319500</td>\n",
       "    </tr>\n",
       "    <tr>\n",
       "      <td>19</td>\n",
       "      <td>2.263400</td>\n",
       "    </tr>\n",
       "  </tbody>\n",
       "</table><p>"
      ],
      "text/plain": [
       "<IPython.core.display.HTML object>"
      ]
     },
     "metadata": {},
     "output_type": "display_data"
    }
   ],
   "source": [
    "from trl import SFTTrainer\n",
    "\n",
    "trainer = SFTTrainer(\n",
    "    model = peft_model,\n",
    "    tokenizer = tok,\n",
    "    train_dataset = dataset,\n",
    "    formatting_func=lambda x: x[\"text\"],\n",
    "    max_seq_length=BLOCK_SIZE,\n",
    "    args = {\n",
    "        \"output_dir\": \"lora-txt-training\",\n",
    "        \"per_device_train_batch_size\": 2,\n",
    "        \"gradient_accumulation_steps\": 4,\n",
    "        \"num_train_epochs\": 1,\n",
    "        \"logging_steps\": 10,\n",
    "        \"save_strategy\": \"steps\",\n",
    "        \"save_steps\": 250,\n",
    "        \"save_total_limit\": 3,\n",
    "        \"fp16\": True,\n",
    "        \"remove_unused_columns\": False,\n",
    "        \"report_to\": \"none\",\n",
    "        \"logging_steps\": 10,\n",
    "    },\n",
    ")\n",
    "trainer.train()\n",
    "print(\"Training complete ✅\")\n",
    "\n",
    "trainer.model.save_pretrained(\"lora-txt-training2/\")\n",
    "tok.save_pretrained(\"lora-txt-training2/\")\n",
    "\n",
    "print(\"Training results saved ✅\")"
   ]
  },
  {
   "cell_type": "markdown",
   "id": "293dbd9d-6287-4cc4-ab3f-fd2697854bfe",
   "metadata": {},
   "source": [
    "# Save training results\n",
    "This may not be needed if the save training results is present in the training snippet."
   ]
  },
  {
   "cell_type": "code",
   "execution_count": 6,
   "id": "c9ea3b81-d963-4478-953c-eedf387ef844",
   "metadata": {
    "execution": {
     "iopub.execute_input": "2025-08-16T23:07:43.101341Z",
     "iopub.status.busy": "2025-08-16T23:07:43.101118Z",
     "iopub.status.idle": "2025-08-16T23:07:43.394266Z",
     "shell.execute_reply": "2025-08-16T23:07:43.393787Z",
     "shell.execute_reply.started": "2025-08-16T23:07:43.101322Z"
    }
   },
   "outputs": [
    {
     "name": "stdout",
     "output_type": "stream",
     "text": [
      "Training results saved ✅\n"
     ]
    }
   ],
   "source": [
    "trainer.model.save_pretrained(\"lora-txt-training/\")\n",
    "tok.save_pretrained(\"lora-txt-training/\")\n",
    "\n",
    "print(\"Training results saved ✅\")"
   ]
  },
  {
   "cell_type": "markdown",
   "id": "2284d0c3-f56e-4576-a2cd-f45e81d8751a",
   "metadata": {},
   "source": [
    "# Push LoRa to Huggingface"
   ]
  },
  {
   "cell_type": "code",
   "execution_count": 2,
   "id": "3f9f2ebf-ce8c-400f-8b04-2a3877fe504d",
   "metadata": {
    "execution": {
     "iopub.execute_input": "2025-08-20T17:45:44.355238Z",
     "iopub.status.busy": "2025-08-20T17:45:44.355007Z",
     "iopub.status.idle": "2025-08-20T17:45:46.773257Z",
     "shell.execute_reply": "2025-08-20T17:45:46.772468Z",
     "shell.execute_reply.started": "2025-08-20T17:45:44.355221Z"
    }
   },
   "outputs": [
    {
     "data": {
      "application/vnd.jupyter.widget-view+json": {
       "model_id": "e943a8e7208847318bfaabe35f3f5f05",
       "version_major": 2,
       "version_minor": 0
      },
      "text/plain": [
       "Processing Files (0 / 0)                : |          |  0.00B /  0.00B            "
      ]
     },
     "metadata": {},
     "output_type": "display_data"
    },
    {
     "data": {
      "application/vnd.jupyter.widget-view+json": {
       "model_id": "83ad1fd6f61c4873a9cc05d79d2bf539",
       "version_major": 2,
       "version_minor": 0
      },
      "text/plain": [
       "New Data Upload                         : |          |  0.00B /  0.00B            "
      ]
     },
     "metadata": {},
     "output_type": "display_data"
    },
    {
     "data": {
      "application/vnd.jupyter.widget-view+json": {
       "model_id": "edf2bef858d547d0a77f131cc39dcf3e",
       "version_major": 2,
       "version_minor": 0
      },
      "text/plain": [
       "  ...training2/adapter_model.safetensors:  90%|######### | 14.2MB / 15.7MB            "
      ]
     },
     "metadata": {},
     "output_type": "display_data"
    },
    {
     "name": "stdout",
     "output_type": "stream",
     "text": [
      "✅ Uploaded to https://huggingface.co/peers-ai/deepseek-7b-my-lora1\n"
     ]
    }
   ],
   "source": [
    "from huggingface_hub import HfApi, upload_folder\n",
    "\n",
    "repo_id = \"peers-ai/deepseek-7b-my-lora1\"\n",
    "folder = \"lora-txt-training2\"  # contains adapter_config.json & adapter_model.bin\n",
    "\n",
    "api = HfApi()\n",
    "# create the repo if it doesn't exist\n",
    "api.create_repo(repo_id, repo_type=\"model\", private=True, exist_ok=True)\n",
    "\n",
    "# upload all files in the folder\n",
    "upload_folder(\n",
    "    repo_id=repo_id,\n",
    "    folder_path=folder,\n",
    "    repo_type=\"model\",\n",
    ")\n",
    "print(f\"✅ Uploaded to https://huggingface.co/{repo_id}\")\n"
   ]
  }
 ],
 "metadata": {
  "kernelspec": {
   "display_name": "Python 3 (ipykernel)",
   "language": "python",
   "name": "python3"
  },
  "language_info": {
   "codemirror_mode": {
    "name": "ipython",
    "version": 3
   },
   "file_extension": ".py",
   "mimetype": "text/x-python",
   "name": "python",
   "nbconvert_exporter": "python",
   "pygments_lexer": "ipython3",
   "version": "3.11.12"
  }
 },
 "nbformat": 4,
 "nbformat_minor": 5
}
