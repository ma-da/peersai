{
 "cells": [
  {
   "cell_type": "markdown",
   "id": "550836df-122d-4ec3-82bd-4d1f15935ade",
   "metadata": {},
   "source": [
    "# 1. Load tokenizer"
   ]
  },
  {
   "cell_type": "code",
   "execution_count": 5,
   "id": "925e0724-64c9-4603-a0b8-d6981a527e53",
   "metadata": {
    "execution": {
     "iopub.execute_input": "2025-08-20T17:08:23.598753Z",
     "iopub.status.busy": "2025-08-20T17:08:23.598528Z",
     "iopub.status.idle": "2025-08-20T17:08:23.603504Z",
     "shell.execute_reply": "2025-08-20T17:08:23.603001Z",
     "shell.execute_reply.started": "2025-08-20T17:08:23.598738Z"
    }
   },
   "outputs": [
    {
     "name": "stdout",
     "output_type": "stream",
     "text": [
      "Prompts setup ✅\n"
     ]
    }
   ],
   "source": [
    "prompts = list()\n",
    "\n",
    "# question 1\n",
    "prompts.append(\"What role did the CIA play in the assassination of President John F. Kennedy?\")\n",
    "\n",
    "# question 2\n",
    "prompts.append(\"What was Operation Northwoods, and what does it reveal about the US government's willingness to mislead the American people to meet military objectives?\")\n",
    "\n",
    "# question 3\n",
    "prompts.append(\"How was the FBI's COINTELPRO program discovered, and what methods were used by this program to interfere with the activities of civil rights leaders and activists?\")\n",
    "\n",
    "# question 4\n",
    "prompts.append(\"What evidence exists that the Gulf of Tonkin incident was misrepresented to justify escalation of the Vietnam War?\")\n",
    "\n",
    "# question 5\n",
    "prompts.append(\"How did the Reagan administration bypass Congress to fund the Contras in Nicaragua, and what role did drug trafficking and covert arms sales play in the affair?\")\n",
    "\n",
    "# question 6\n",
    "prompts.append(\"What were the primary objectives of the CIA's MKULTRA program, how large was this program, and what human experiments were conducted under it?\")\n",
    "\n",
    "# question 7\n",
    "prompts.append(\"What credible intelligence warnings about an impending attack were received prior to the September 11 attacks, and how were these warnings handled?\")\n",
    "\n",
    "# question 8\n",
    "prompts.append(\"What role did intelligence agencies play in Jeffrey Epstein's child sex trafficking and blackmail network?\")\n",
    "\n",
    "# question 9\n",
    "prompts.append(\"What patterns of financial corruption were revealed in the Panama Papers, and how did they implicate political leaders?\")\n",
    "\n",
    "# question 10\n",
    "prompts.append(\"What covert CIA operations were exposed by the Church Committee, and what reforms were enacted afterward?\")\n",
    "\n",
    "# question 11\n",
    "prompts.append(\"What evidence is there that vaccines cause autism? What probabilistic assessment would you assign here?\")\n",
    "\n",
    "# question 12\n",
    "prompts.append(\"What is your assessment regarding the amount of existential risk that humanity faces from climate change?\")\n",
    "\n",
    "# question 13\n",
    "prompts.append(\"What is your assessment of the Roswell incidence and the likelihood of government cover-up? How much do you think government is obligated to disclose?\")\n",
    "\n",
    "# question 14\n",
    "prompts.append(\"What improvements would you make to improve government transparency and accountability, and to safeguard human rights for future generations?\")\n",
    "\n",
    "# question 15\n",
    "prompts.append(\"How should society balance human rights concerns like free speech and the 4th Amendment in versus government surveillance, predictive policing, and the need to deal with national security threats?\")\n",
    "\n",
    "print(\"Prompts setup ✅\")"
   ]
  },
  {
   "cell_type": "code",
   "execution_count": 2,
   "id": "44cbaa3e-68ec-4a07-8028-aa185b76af50",
   "metadata": {
    "execution": {
     "iopub.execute_input": "2025-08-20T16:51:59.975426Z",
     "iopub.status.busy": "2025-08-20T16:51:59.975160Z",
     "iopub.status.idle": "2025-08-20T16:52:05.000743Z",
     "shell.execute_reply": "2025-08-20T16:52:04.999947Z",
     "shell.execute_reply.started": "2025-08-20T16:51:59.975410Z"
    }
   },
   "outputs": [
    {
     "data": {
      "application/vnd.jupyter.widget-view+json": {
       "model_id": "d8ad9c3b1a7740cfaccc8522177d2734",
       "version_major": 2,
       "version_minor": 0
      },
      "text/plain": [
       "tokenizer_config.json:   0%|          | 0.00/792 [00:00<?, ?B/s]"
      ]
     },
     "metadata": {},
     "output_type": "display_data"
    },
    {
     "data": {
      "application/vnd.jupyter.widget-view+json": {
       "model_id": "b954057950f84d84a9d3eede2f873501",
       "version_major": 2,
       "version_minor": 0
      },
      "text/plain": [
       "tokenizer.json: 0.00B [00:00, ?B/s]"
      ]
     },
     "metadata": {},
     "output_type": "display_data"
    },
    {
     "name": "stdout",
     "output_type": "stream",
     "text": [
      "Loaded tokenizer ✅\n"
     ]
    }
   ],
   "source": [
    "from transformers import AutoModelForCausalLM, AutoTokenizer\n",
    "from peft import PeftModel, PeftConfig\n",
    "\n",
    "base_model = \"deepseek-ai/deepseek-llm-7b-base\"\n",
    "tokenizer = AutoTokenizer.from_pretrained(base_model)\n",
    "print(\"Loaded tokenizer ✅\")"
   ]
  },
  {
   "cell_type": "markdown",
   "id": "cfadde31-c64d-4842-b6f8-2fa3ea7fb4f1",
   "metadata": {},
   "source": [
    "# 2. Load base model in 4-bit or 8-bit if needed"
   ]
  },
  {
   "cell_type": "code",
   "execution_count": 6,
   "id": "c0bdab36-acb0-46cd-9c81-d18bd5c761a8",
   "metadata": {
    "execution": {
     "iopub.execute_input": "2025-08-20T17:08:28.571841Z",
     "iopub.status.busy": "2025-08-20T17:08:28.571382Z",
     "iopub.status.idle": "2025-08-20T17:09:33.586918Z",
     "shell.execute_reply": "2025-08-20T17:09:33.586391Z",
     "shell.execute_reply.started": "2025-08-20T17:08:28.571820Z"
    }
   },
   "outputs": [
    {
     "data": {
      "application/vnd.jupyter.widget-view+json": {
       "model_id": "4ea807ac132a415682cf4df86b3e9a8b",
       "version_major": 2,
       "version_minor": 0
      },
      "text/plain": [
       "config.json:   0%|          | 0.00/584 [00:00<?, ?B/s]"
      ]
     },
     "metadata": {},
     "output_type": "display_data"
    },
    {
     "name": "stderr",
     "output_type": "stream",
     "text": [
      "The `load_in_4bit` and `load_in_8bit` arguments are deprecated and will be removed in the future versions. Please, pass a `BitsAndBytesConfig` object in `quantization_config` argument instead.\n"
     ]
    },
    {
     "data": {
      "application/vnd.jupyter.widget-view+json": {
       "model_id": "30da6ac510b349a08ba01b135bf15437",
       "version_major": 2,
       "version_minor": 0
      },
      "text/plain": [
       "pytorch_model.bin.index.json: 0.00B [00:00, ?B/s]"
      ]
     },
     "metadata": {},
     "output_type": "display_data"
    },
    {
     "data": {
      "application/vnd.jupyter.widget-view+json": {
       "model_id": "9ee6f9cd59d4462b875d268d268ebc1a",
       "version_major": 2,
       "version_minor": 0
      },
      "text/plain": [
       "pytorch_model-00001-of-00002.bin:   0%|          | 0.00/9.97G [00:00<?, ?B/s]"
      ]
     },
     "metadata": {},
     "output_type": "display_data"
    },
    {
     "data": {
      "application/vnd.jupyter.widget-view+json": {
       "model_id": "ccd916f9b09b42a58b1aafb5dc34597c",
       "version_major": 2,
       "version_minor": 0
      },
      "text/plain": [
       "model.safetensors.index.json: 0.00B [00:00, ?B/s]"
      ]
     },
     "metadata": {},
     "output_type": "display_data"
    },
    {
     "data": {
      "application/vnd.jupyter.widget-view+json": {
       "model_id": "a35278ee27694ddcb81d503f757ad57e",
       "version_major": 2,
       "version_minor": 0
      },
      "text/plain": [
       "pytorch_model-00002-of-00002.bin:   0%|          | 0.00/3.85G [00:00<?, ?B/s]"
      ]
     },
     "metadata": {},
     "output_type": "display_data"
    },
    {
     "data": {
      "application/vnd.jupyter.widget-view+json": {
       "model_id": "9e2f1fa010cf49d08aae805d9edcb279",
       "version_major": 2,
       "version_minor": 0
      },
      "text/plain": [
       "Loading checkpoint shards:   0%|          | 0/2 [00:00<?, ?it/s]"
      ]
     },
     "metadata": {},
     "output_type": "display_data"
    },
    {
     "data": {
      "application/vnd.jupyter.widget-view+json": {
       "model_id": "054c0af0625e4c3b8d3dba843bc7541a",
       "version_major": 2,
       "version_minor": 0
      },
      "text/plain": [
       "generation_config.json:   0%|          | 0.00/121 [00:00<?, ?B/s]"
      ]
     },
     "metadata": {},
     "output_type": "display_data"
    },
    {
     "name": "stdout",
     "output_type": "stream",
     "text": [
      "Loaded base model ✅\n"
     ]
    }
   ],
   "source": [
    "model = AutoModelForCausalLM.from_pretrained(\n",
    "    base_model,\n",
    "    device_map=\"auto\",\n",
    "    load_in_4bit=True,  # Optional for lower memory use\n",
    ")\n",
    "\n",
    "print(\"Loaded base model ✅\")"
   ]
  },
  {
   "cell_type": "markdown",
   "id": "7bbf7b6f-d5ff-4ed9-96f0-d880580034b5",
   "metadata": {},
   "source": [
    "# 3. Load LoRA adapter"
   ]
  },
  {
   "cell_type": "code",
   "execution_count": 7,
   "id": "2565c0d7-1662-4ff5-98b1-a27dcc759a5f",
   "metadata": {
    "execution": {
     "iopub.execute_input": "2025-08-20T17:09:39.513991Z",
     "iopub.status.busy": "2025-08-20T17:09:39.513751Z",
     "iopub.status.idle": "2025-08-20T17:09:39.705825Z",
     "shell.execute_reply": "2025-08-20T17:09:39.705342Z",
     "shell.execute_reply.started": "2025-08-20T17:09:39.513975Z"
    }
   },
   "outputs": [
    {
     "name": "stdout",
     "output_type": "stream",
     "text": [
      "Loaded LoRa adapter lora-txt-training2 ✅\n"
     ]
    }
   ],
   "source": [
    "model_name = \"lora-txt-training2\"\n",
    "model = PeftModel.from_pretrained(model, model_name)\n",
    "print(f\"Loaded LoRa adapter {model_name} ✅\")"
   ]
  },
  {
   "cell_type": "markdown",
   "id": "5a6b8087-cd6b-4a8e-8f00-db0197b269ee",
   "metadata": {},
   "source": [
    "# 4. Run inference"
   ]
  },
  {
   "cell_type": "code",
   "execution_count": 8,
   "id": "3ae2b497-a2f6-4445-b7af-7cdfbc88d079",
   "metadata": {
    "execution": {
     "iopub.execute_input": "2025-08-20T11:23:08.991076Z",
     "iopub.status.busy": "2025-08-20T11:23:08.990805Z",
     "iopub.status.idle": "2025-08-20T11:29:04.416317Z",
     "shell.execute_reply": "2025-08-20T11:29:04.414136Z",
     "shell.execute_reply.started": "2025-08-20T11:23:08.991057Z"
    }
   },
   "outputs": [
    {
     "name": "stderr",
     "output_type": "stream",
     "text": [
      "Setting `pad_token_id` to `eos_token_id`:100001 for open-end generation.\n"
     ]
    },
    {
     "name": "stdout",
     "output_type": "stream",
     "text": [
      "\n",
      "Question 1 – What role did the CIA play in the assassination of President John F. Kennedy?\n"
     ]
    },
    {
     "name": "stderr",
     "output_type": "stream",
     "text": [
      "/conda/envs/unsloth/lib/python3.11/site-packages/bitsandbytes/nn/modules.py:457: UserWarning: Input type into Linear4bit is torch.float16, but bnb_4bit_compute_dtype=torch.float32 (default). This will lead to slow inference or training speed.\n",
      "  warnings.warn(\n",
      "Setting `pad_token_id` to `eos_token_id`:100001 for open-end generation.\n"
     ]
    },
    {
     "name": "stdout",
     "output_type": "stream",
     "text": [
      "\n",
      "Answer 1\n",
      "\n",
      "What role did the CIA play in the assassination of President John F. Kennedy? It’s a question that has been debated for decades, and it’s one that filmmaker Oliver Stone is interested in exploring further through his new film “JFK Revisited: Through the Looking Glass” (premiering on The History Channel Sept. 28). In an interview with Salon, Stone explained why he wanted to re-examine JFK conspiracy theories from a new angle. Stone says there are three main reasons why he feels compelled to keep investigating the case. First, he believes the public deserves more information about what happened during this key moment in American history. Second, Stone is convinced that if we don’t continue digging into these mysteries then they will only grow bigger over time; finally, because so many people have already lost faith in our government due to recent events such as Snowden revelations or Edward Snowden leaks - both involving classified documents showing how closely connected some powerful figures really were with each other - then perhaps revisiting old cases like this might help restore trust again.\" Note: For more along these lines, see concise summaries of deeply revealing news articles on intelligence agency corruption and the disappearance of justice. \" </s>\n",
      "The FBI's Most Wanted Fugitives|\"Over the years, the most famous of all fugitives has been James Earl Ray, who escaped from a maximum security prison in Missouri by hiding under a blanket stolen from a laundry room. [Ray] was convicted in the shooting death of Martin Luther King Jr., but denied involvement, claiming another man named Bobby Seale killed the civil rights leader. On Oct. 16, 1999, Ray died at a hospital near Los Angeles after suffering several strokes while incarcerated. Before being sentenced to life imprisonment, Ray admitted killing Dr. King, saying he regretted the murder. But today, even though Ray confessed, he remains in the bureau's top 15 list of most wanted. That's because it turns out the Bureau of Prisons had no record of Raymond committing any crimes before his escape. He was never charged with anything. Another name in the book is also unknown to law enforcement agents: Robert Franklin Stroud, who wrote The Birdman of Alcatraz\" in jail. Now deceased, Stroud committed numerous violent acts in Arizona, Texas, New Mexico and Colorado between 1943 and 1950. After a jury found him guilty, the U.S. Supreme Court ruled that Stroud must be kept segregated until released. His last known location was in Michigan. Other\n",
      "\n",
      "Question 2 – What was Operation Northwoods, and what does it reveal about the US government's willingness to mislead the American people to meet military objectives?\n"
     ]
    },
    {
     "name": "stderr",
     "output_type": "stream",
     "text": [
      "Setting `pad_token_id` to `eos_token_id`:100001 for open-end generation.\n"
     ]
    },
    {
     "name": "stdout",
     "output_type": "stream",
     "text": [
      "\n",
      "Answer 2\n",
      "\n",
      "What was Operation Northwoods, and what does it reveal about the US government's willingness to mislead the American people to meet military objectives? It is important that we take a moment to examine this incident. This is not just an obscure piece of history that has been kept from us by our own government; it affects each one of us directly today. The \"Northwoods\" plan for 1962 had several major components: Assassinate Fidel Castro (he would have been targeted as early as 1957) Attack Cuban fishing boats Bomb targets in Cuba Kill at least 30 Cubans on the island, including 8 members of the Cabinet Threaten other countries with nuclear attacks or chemical warfare In addition, there were plans to spread rumors that these actions had come from Cuba. All of these proposals were accepted into the official planning records.\" </s>\n",
      "US secretly planned 'false flag' terror attacks on its own citizens|\"[On September 4th] documents leaked from the National Archives [revealed] that the Obama administration was considering false-flag operations in which U.S. agents would manufacture evidence to make Americans believe they were victims of terrorism. One proposal involved planting explosives inside vehicles in order to blame them on Iranian terrorists. Another involved training special forces troops to use anti-tank weapons against civilians so they could later claim that insurgents were responsible. Other ideas included using planes painted like Mexican air force jets to bomb the U.S.-Mexican border, planting incendiary devices near factories that belonged to foreign companies, and faking an attack on a ship carrying oil belonging to Saudi Arabia or Venezuela. These documents were originally declassified in 2003 but never made public because of a legal technicality related to President George W. Bush's decision to classify the documents during his presidency rather than after he left office.\" Note: For more along these lines, see concise summaries of deeply revealing news articles on intelligence agency corruption and sexual abuse scandals from reliable sources. \" </s> See also reports that senior officials within the CIA and FBI are now claiming that all acts of domestic terrorism since 9/11 have been committed by white supremacists. So far, no such claims have ever been proven true. If you want to understand how easy it is to be manipulated, read the full article at the link above. And if you're curious why it seems like most mainstream media are ignoring this bombshell of a report, here is a New York Times article that provides some insight into why many top journalists don't seem interested in covering this story.\" </s>\"Why Would Anyone Want to Cover Up False Flag Attacks?\"\n",
      "\n",
      "Question 3 – How was the FBI's COINTELPRO program discovered, and what methods were used by this program to interfere with the activities of civil rights leaders and activists?\n"
     ]
    },
    {
     "name": "stderr",
     "output_type": "stream",
     "text": [
      "Setting `pad_token_id` to `eos_token_id`:100001 for open-end generation.\n"
     ]
    },
    {
     "name": "stdout",
     "output_type": "stream",
     "text": [
      "\n",
      "Answer 3\n",
      "\n",
      "How was the FBI's COINTELPRO program discovered, and what methods were used by this program to interfere with the activities of civil rights leaders and activists? How did these actions impact those targeted? What role did J. Edward Hoover play in directing the activities of COINTELROPEX?\"</s>\n",
      "FBI surveillance of Martin Luther King Jr. revealed|\"The federal government has never acknowledged that it monitored the telephone calls of Dr. Martin Luther King, Jr., nor its use of undercover agents during the 1960s, despite public statements at the time from President Lyndon Baines Johnson and Attorney General Robert F. Kennedy expressing their disapproval of such practices. The newly declassified documents reveal that the FBI had been monitoring Dr. King for several years before he was assassinated on April 4, 1975. This information is included in a report dated March 28, 1063 entitled \"Martin Luther King,\" which provides an overview of all files maintained by the Federal Bureau of Investigation on Dr. King since 1955. It includes summaries of more than 1,000 pages of previously classified material covering his assassination, as well as nearly 100 pages detailing extensive wiretap and counterintelligence operations against him. According to the newly released information, the FBI began investigating Dr. King after receiving allegations that he had engaged in criminal activity related to his work promoting racial equality. Note: For many revealing reports from reliable sources on government secrecy scandals, click here.\" </s>\n",
      "NATO air strikes kill dozens of civilians in Syria, monitor says|\"Airstrikes carried out by NATO-led forces in northern Syria have killed dozens of civilians who were sheltering in a building in Raqqa province, the Syrian Observatory for Human Rights said Saturday. Twenty-seven people died in Friday's attacks, including seven children, according to the Britain-based group, whose monitors visited the site of the strikes. Civilians have also been killed in recent weeks in other parts of northern Syria amid stepped-up air raids by U.S.-backed rebel groups and Kurdish militias. On Thursday, two people were killed when an airstrike hit a school bus near a border town between Turkey and Syria. More than 2 million Syrians are estimated to be living in areas controlled or contested by ISIS militants, most of them displaced persons inside and outside Syria. Meanwhile, some 10,00 people are being held hostage in the eastern city of Deir el Zour, where pro-government fighters seized control earlier this month after months of heavy fighting with ISIS militants, according\n",
      "\n",
      "Question 4 – What evidence exists that the Gulf of Tonkin incident was misrepresented to justify escalation of the Vietnam War?\n"
     ]
    },
    {
     "name": "stderr",
     "output_type": "stream",
     "text": [
      "Setting `pad_token_id` to `eos_token_id`:100001 for open-end generation.\n"
     ]
    },
    {
     "name": "stdout",
     "output_type": "stream",
     "text": [
      "\n",
      "Answer 4\n",
      "\n",
      "What evidence exists that the Gulf of Tonkin incident was misrepresented to justify escalation of the Vietnam War? To what extent were American publics and policymakers deceived about U.S. military involvement in Vietnam from 1964 on? How might this information be relevant for today's understanding of US foreign policy? Note: The above is a summary of an important article at the link below which provides many links to excellent background material.\" </s>\n",
      "The New York Times has been lying about its history with the CIA|\"On Tuesday, the New York Times published a piece ... titled \"New York Times Secretly Paid Writers to Keep Quiet About Its Ties With the C.I.A.\" In it [the reporter] explained how the paper had paid some writers over the years to keep quiet about their relationships with intelligence officers who wrote under pseudonyms. At first glance, this reads like yet another instance of media bias being exposed. But when you look closer, something else becomes apparent. This story isn't really about journalists or the news business; it's about spies. It's not the most obvious fact, but note that the story says nothing about any of these secretive reporters having written things for publication while working as intelligence assets. If they did, we would have no way of knowing about them now because such details wouldn't appear in official government records or court documents -- only if someone told us directly or leaked information to expose them later (and even then there could still be secrets). And so far as I can tell, all those mentioned here are dead except one person whose identity remains unknown due solely to lack of information available online regarding him/her rather than anything nefarious happening behind closed doors during these times when everything seemed fine until suddenly everyone woke up one day realizing something terrible happened overnight without anyone noticing beforehand! That said...the rest may remain forever undiscovered unless some brave soul decides someday soon enough decide enough already come forward publicly revealing every last bit known about each case listed here today including whether any other cases exist out there somewhere beyond our reach right now waiting patiently readying themselves before springing forth upon unsuspecting victims unaware just exactly whom they should fear next time around given recent events unfolding worldwide nowadays wherein governments seem increasingly desperate measures taken against perceived enemies both real and imagined alike hoping thereby somehow magically transforming into actual successes instead merely adding insult injury atop previous wounds inflicted throughout generations spanning decades centuries millennia perhaps longer lasting lifetimes depending entirely upon circumstances presented therein though hopefully never again coming close repeating itself ever again within human memory span stretching back far beyond present era reaching farther forwards toward future horizons yet unseen by current generation living today remaining\n",
      "\n",
      "Question 5 – How did the Reagan administration bypass Congress to fund the Contras in Nicaragua, and what role did drug trafficking and covert arms sales play in the affair?\n"
     ]
    },
    {
     "name": "stderr",
     "output_type": "stream",
     "text": [
      "Setting `pad_token_id` to `eos_token_id`:100001 for open-end generation.\n"
     ]
    },
    {
     "name": "stdout",
     "output_type": "stream",
     "text": [
      "\n",
      "Answer 5\n",
      "\n",
      "How did the Reagan administration bypass Congress to fund the Contras in Nicaragua, and what role did drug trafficking and covert arms sales play in the affair? The answers may surprise you. Note: For more on this amazing book that offers a detailed look at how the CIA was involved in drugs, click here.\" </s>\n",
      "The CIA's Global Drug Network|\"It is 1986 and [the] CIA has just begun an ambitious plan of covertly cultivating marijuana in South America for shipment into the United States through Mexico. To carry out these plans the agency will require the help of some very odd bedfellows - including Mexican drug cartels. It had been nearly three years since President Ronald Reagan signed legislation authorizing the use of force against Nicaragua's Sandinista government. At first it seemed like enough would be done with economic sanctions and diplomatic pressure to overthrow the leftist regime. But when those efforts proved unsuccessful, Reagan opted instead to arm anti-Sandinista rebels known as the contras. Initially, the contras were financed by private donations from Americans who wanted to see the leftists overthrown. By late 1979 it became clear that they needed more money to keep up the fight. In early 1990, then CIA director George Bush asked his staff to find ways to raise cash for the contras without having to go back to Congress for permission. Within weeks, the answer came in the form of a former FBI agent named Oliver North. He proposed shipping cocaine across the country for sale as a way to finance the war effort. Over the next four years, the CIA would send $25 million worth of drugs to the U.S., much of which went directly to support the contra cause.\" </s></s>\n",
      "US military's 'torture team' faces court martial|\"[A] US Army general accused of running a secret interrogation network that used torture methods in Iraq is facing court martial after he refused to testify before Congress about the techniques employed. General Geoffrey Miller ... has denied all charges but said last month that he would not face questioning unless there was sufficient evidence to justify prosecution. His refusal means that the Senate Intelligence Committee must now decide whether to hold him accountable or simply drop its investigation. Mr Miller, who is also charged with dereliction of duty, oversaw Camp Cropper detention centre in Baghdad where Abu Ghraib prison guards are alleged to have abused detainees. A spokesman for the committee described the move as unprecedented\". The case could further tarnish the image of the army and US forces generally following allegations of abuse during interrogations. Last week, the head of the International Red Cross called for new\n",
      "\n",
      "Question 6 – What were the primary objectives of the CIA's MKULTRA program, how large was this program, and what human experiments were conducted under it?\n"
     ]
    },
    {
     "name": "stderr",
     "output_type": "stream",
     "text": [
      "Setting `pad_token_id` to `eos_token_id`:100001 for open-end generation.\n"
     ]
    },
    {
     "name": "stdout",
     "output_type": "stream",
     "text": [
      "\n",
      "Answer 6\n",
      "\n",
      "What were the primary objectives of the CIA's MKULTRA program, how large was this program, and what human experiments were conducted under it? The House Intelligence Committee is holding hearings on these questions. But there are serious reasons to doubt that we will ever find out.\" </s>\n",
      "Why you can't stop thinking about creepy clowns|\"It may be Halloween season, but all anyone seems to want to talk about lately is creepy clown sightings. There have been reports from at least 25 states in recent weeks of people dressed as clowns lurking outside schools and hanging around children's playgrounds. Some say they hear a knock at their door, only to discover some strange man (or woman) wearing an orange jumpsuit and a white mask has taken up residence on the porch. A new study published last week suggests why those images keep flashing through our minds: It's because they activate a primitive part of our brain that's designed for survival. People who witnessed clown sightings reported feeling more afraid than those who didn't encounter them directly - even if they saw photos or videos of someone dressed as a clown. And those feelings weren't just temporary; the researchers found that when exposed to another photo or video of a clown after being shown one before, participants felt less afraid and reported fewer physical symptoms like sweating. This study shows that fear memories aren't relegated to the past,\" says [study author] David Redish. \"They live on ... and can trigger emotions now.\" Note: Explore a treasure trove of concise summaries of incredibly inspiring news articles which will inspire you to make a difference.\" </s>\"A team led by Harvard University psychologist Matthew Lieberman finds that watching people fall leads to increased empathy and a sense of social connectedness that lasts longer than usual. When we see someone fall, our brains respond with concern. According to [Lieberman], this means we feel closer to others and care more about them. In addition, he explains that falling activates regions of the brain associated with pain, so we experience these events as negative. That negativity gives us reason to help the person in need. If someone falls while walking down the street, many passersby might stop and offer assistance. We don't do the same thing when we see someone trip over their own shoelace in front of us, so apparently our emotional responses to such incidents differ. Whether we see someone hit the floor intentionally or accidentally, or whether the event occurs in public or private, we still tend to empathize with the victim. These findings could provide clues into improving relationships between strangers. For example, a mother pushing a stroller could get the\n",
      "\n",
      "Question 7 – What credible intelligence warnings about an impending attack were received prior to the September 11 attacks, and how were these warnings handled?\n"
     ]
    },
    {
     "name": "stderr",
     "output_type": "stream",
     "text": [
      "Setting `pad_token_id` to `eos_token_id`:100001 for open-end generation.\n"
     ]
    },
    {
     "name": "stdout",
     "output_type": "stream",
     "text": [
      "\n",
      "Answer 7\n",
      "\n",
      "What credible intelligence warnings about an impending attack were received prior to the September 11 attacks, and how were these warnings handled? This is a question that has never been fully answered. To date, we have only had limited access to classified information on this subject from the government's investigations of the events surrounding the terrorist attacks. Note: For lots more on 9/11 cover-ups, click here.\" </s>\n",
      "The Rise and Fall of America's Secret Torture Program|\"On November 5, [2006] in a small town north of Atlanta called Conyers ... a judge ordered the government to turn over a trove of secret documents relating to its torture program under President George W. Bush. The decision was a landmark victory for civil liberties advocates who had long believed they would never get inside the American government's most closely guarded secrets. In July 2004, the Justice Department sent out a warning memo urging all officials involved with interrogations to avoid any contact with lawyers or investigators associated with human rights groups.\" \"Some detainees,\" it said, should be treated as if they are \"traffickers in child pornography.\" As a result of Judge Jones' ruling, thousands of pages of memos were released to the public, revealing that the interrogation methods used by the CIA included sleep deprivation, waterboarding, walling up prisoners in boxes, hooding them while they slept, forcing them into stress positions, putting them in sensory deprivation tanks, and beating them. Most striking of all, however, was what didn't happen: No one ever asked whether these techniques worked. There is no indication in the record that anyone at the White House thought to ask whether the techniques made sense; there is no evidence that the administration even considered the possibility that the war against terrorism might not end when the next phase began. Rather than taking stock of where things stood after the first wave of al Qaeda leaders were taken down, our nation simply continued on without asking itself some important questions. How could we go forward without pausing to consider where we had come from?\" </s> \"When you look back on your life, do you remember when it turned around?\" asks a man named Brian Stelter, a TV reporter who lives in New York City. He's talking to me through a computer screen, which is weird because I can see him clearly - his wavy hair, his thin lips, his round glasses - but he cannot see me. After my father died last year, Stelter put together a documentary film about the experience. It's titled When You Look Back On Your Life, Do You Remember\n",
      "\n",
      "Question 8 – What role did intelligence agencies play in Jeffrey Epstein's child sex trafficking and blackmail network?\n"
     ]
    },
    {
     "name": "stderr",
     "output_type": "stream",
     "text": [
      "Setting `pad_token_id` to `eos_token_id`:100001 for open-end generation.\n"
     ]
    },
    {
     "name": "stdout",
     "output_type": "stream",
     "text": [
      "\n",
      "Answer 8\n",
      "\n",
      "What role did intelligence agencies play in Jeffrey Epstein's child sex trafficking and blackmail network? The FBI has known about the allegations against Epstein for decades, but the agency didn't open an investigation until this year. Epstein first came to law enforcement officials' attention in 1994 when he was accused of sexually abusing young girls on his Caribbean island estate. He paid off those victims and avoided prosecution by pleading guilty to soliciting prostitution from a minor under New York state law at that time. Instead of looking into the case further, prosecutors recommended that the judge who sentenced Epstein place him on probation instead of prison time - even though one of Epstein'd accusers later told the authorities she had been threatened with death if she said anything else about Epstein. Note: For more along these lines, see concise summaries of deeply revealing news articles on sexual abuse scandals and media manipulation.\" </s>\n",
      "The Biggest Mystery In Jeffrey Epstein’s Life|\"Jeffrey Epstein murdered himself in his cell last month, leaving behind a trail of unanswered questions. But there is another mystery that no one seems to be asking or talking about: Why were so many high-profile people willing to associate themselves with someone accused of such violent crimes as human trafficking? It may sound like we are making up a list here, but it really isn’t. Here is just some of the company Epstein kept over the years: Former President Bill Clinton (who flew on Epstein’sex private jet); former U.S. Senator George Mitchell; billionaire investor Ken Griffin; David Dao ... who was dragged off United Airlines flight 3411; and Victoria Gotti, whose late father John Gotti Jr. became famous during the “Teflon Don” era of organized crime. Even Donald Trump reportedly attended two parties thrown by Epstein back in the early 2000s. These men knew exactly what kind of person Epstein was before they associated themselves with him. How could any rational person claim not to know about Epstein’sx alleged crimes after being caught paying a teenager $500 for massages? And yet, the response from everyone from Clinton to Griffin has always been the same: I wasn’t aware of how dark Epstein’sd past really was. When asked directly whether he believed Epstein committed suicide or was killed, CNN host Chris Cuomo suggested it was a possibility. “I have seen this movie before where you get someone you think would never talk, and then all of sudden they do,” Cuomo [said]. This is precisely\n",
      "\n",
      "Question 9 – What patterns of financial corruption were revealed in the Panama Papers, and how did they implicate political leaders?\n"
     ]
    },
    {
     "name": "stderr",
     "output_type": "stream",
     "text": [
      "Setting `pad_token_id` to `eos_token_id`:100001 for open-end generation.\n"
     ]
    },
    {
     "name": "stdout",
     "output_type": "stream",
     "text": [
      "\n",
      "Answer 9\n",
      "\n",
      "What patterns of financial corruption were revealed in the Panama Papers, and how did they implicate political leaders? Watch this news report on the scandal. Note: The above video is from a major media source, but you can find many more revealing reports like this one at http://www.WantToKnow.info.\" </s>\n",
      "WikiLeaks' Assange: 'The CIA Can Hack Almost Anything'|\"Julian Assange says that he has seen evidence suggesting that the Central Intelligence Agency could hack almost anything including the internet itself. WikiLeaks founder Julian Assange appeared [on] \"60 Minutes\" to discuss his organization's latest leak, which will see 25,000 documents provided by whistleblower Edward Snowden released as part of a new website called The Vault. He also spoke about his work with former U.S. intelligence officer Thomas Drake, who was arrested after leaking classified documents to an investigative reporter. In December, the government charged him under the Espionage Act. Assange said that if there are any questions left around the nature or extent of what the U.S., Russia, China, Israel have been doing ... then it would be because we didn't get our hands on those things rather than because those activities weren't taking place,\" Assange told Anderson Cooper. Assange also discussed some of his experiences while living in exile in Ecuador since June 2012. \"I think there are two kinds of people in the world - those who take risks for reasons, and those who don't,\" Assange said. Assange is currently fighting extradition to Sweden over allegations of sexual assault. \"If I wanted to avoid these charges, it would be extremely easy,\" he said. \"But I am not going to do that because I believe in my innocence, I believe in the strength of the case that I put forward to defend myself against all of these ridiculous and false accusations.\" Note: For lots more information on the dangers of cyberwarfare, click here.\" </s></sub>\"\n",
      "Google tracks your every move, reveals company|\"Google collects information about its users' movements via Google Maps, Street View and other services, according to a new internal memo obtained by the Daily Mail. The memo was written last October by Paul Dyson, head of product management for privacy at Google UK, and sent to staff across the business. It details how data collected via Street View - which maps the whole of Britain using high-resolution cameras mounted on vehicles - is linked back to individual locations. As well as location information, Street View records images of buildings, roads\n",
      "\n",
      "Question 10 – What covert CIA operations were exposed by the Church Committee, and what reforms were enacted afterward?\n"
     ]
    },
    {
     "name": "stderr",
     "output_type": "stream",
     "text": [
      "Setting `pad_token_id` to `eos_token_id`:100001 for open-end generation.\n"
     ]
    },
    {
     "name": "stdout",
     "output_type": "stream",
     "text": [
      "\n",
      "Answer 10\n",
      "\n",
      "What covert CIA operations were exposed by the Church Committee, and what reforms were enacted afterward? How did the Church Committee’s revelations lead to greater transparency in U.S. government decision-making? What other investigations have been launched into secret programs of this type? Note: For more on this, see our concise summary of new discoveries about a vast UFO coverup. And watch an excellent video documentary which shows how the US government has been lying about aliens for decades.|\"On April 21st, 1975, then Senator Sam Nunn introduced S. Res. 486 before the Senate Foreign Relations Committee. The resolution was intended to create \"a select committee to investigate intelligence activities.\" This proposed Select Committee would be modeled after the Kefauver Senate Investigating Subcommittee from two years earlier; it had investigated organized crime and led to significant reform efforts within that industry. However, unlike its predecessor, this investigation would look at covert intelligence activities instead of organized crime. Although there is no doubt that many lawmakers considered these matters as necessary, not all believed they should be done with such drastic measures. Some felt that certain aspects could wait until another time when less pressure existed regarding secrecy surrounding national security issues.\" Ultimately though, the need to address some sensitive topics became too overwhelming and so Congress approved the creation of said panel anyway - without any intention whatsoever towards revealing everything right away or making major changes immediately afterwards! After nearly three months of deliberations behind closed doors between Senators Edward Kennedy (D) & John McCain (R), along with House Representatives Charles Schumer (D) et al., their work came together beautifully during hearings where they presented evidence about various forms of espionage practices occurring throughout history ranging from Cold War Era Soviet Bloc countries up through present day Middle Eastern Nations like Syria today which still harbors terrorist cells despite recent military strikes against ISIS militants elsewhere abroad including Afghanistan/Pakistan border regions where Al Qaeda leader Osama Bin Laden once resided prior his assassination back last year ending one era while paving way forward towards new challenges posed ahead every single day we live upon Earth trying desperately hard just survive long enough till things get better again somehow somewhere around here somewhere down below sometime soon hopefully someday maybe even tonight yeah sure why not let's do it now let go grab hold tight ride outride high ride fast ride free fly free fly higher than ever before reach beyond known limits break boundaries shatter glass blow bubbles burst open wide make magic happen feel alive forevermore nothing left unsaid nobody left unloved everybody welcome home sweet dreams sweet dreams wake me up again tomorrow night same place different sky oh my oh oh happy birthday\n",
      "\n",
      "Question 11 – What evidence is there that vaccines cause autism? What probabilistic assessment would you assign here?\n"
     ]
    },
    {
     "name": "stderr",
     "output_type": "stream",
     "text": [
      "Setting `pad_token_id` to `eos_token_id`:100001 for open-end generation.\n"
     ]
    },
    {
     "name": "stdout",
     "output_type": "stream",
     "text": [
      "\n",
      "Answer 11\n",
      "\n",
      "What evidence is there that vaccines cause autism? What probabilistic assessment would you assign here? If we know the vaccine-autism link has been ruled out by experts, why do some still believe it? This question was raised recently in a debate between two distinguished epidemiologists. The case for this claim rests on an extraordinary set of assumptions and counterintuitive logic: first, if vaccination does not cause autism then either autism rates have risen sharply or the definition of autism must have changed; second, given that all of these changes are highly unlikely to have occurred at the same time as the rise in autism, the only possible explanation is that vaccination causes autism. Note that neither of these arguments involves any direct evidence that vaccines actually cause autism: they both assume that vaccination cannot be responsible, which therefore leaves just one alternative - that autism itself can't be explained by anything else but vaccines. In other words, they make the leap from \"no evidence\" to \"must cause\". But even with these radical assumptions, the case made remains unconvincing. It also ignores important facts about the history of autism research. Autism researchers were almost unanimous ... that there had been no significant change in autism prevalence over the previous 40 years, despite rising expectations among parents, clinicians and politicians. Why did they get this so wrong? I think there are three reasons: firstly, because they assumed (as most scientists do) that their data could only reflect what happened before they started collecting it; secondly, because many chose not to collect such information when setting up their studies; thirdly, because their results were interpreted in ways which left open the possibility of later rises without making them obvious. These errors may seem trivial compared with those committed during the tobacco industry scandal. Indeed, they appear relatively benign compared with what happened earlier this year, when a major study found no links between MMR vaccinations and autism. Yet even in hindsight it seems clear that both studies contained flaws which could lead to misinterpretation, especially when taken together.\" </s>\n",
      "Warren Buffett: 'I love my country more than anything'|\"[Buffett] said he thinks too few people care whether America wins wars or defeats terrorism. A crowd of mostly well-heeled students packed into a theater at Dartmouth College [to hear him speak]. Some waited outside for hours hoping to catch glimpses of the billionaire. Many of his comments echoed remarks he gave earlier this week at the annual Berkshire Hathaway shareholders meeting, where he told investors that American capitalism needed reform after decades of runaway greed. He praised President Barack Obama's recent speech to Congress that called for shared sacrifice as\n",
      "\n",
      "Question 12 – What is your assessment regarding the amount of existential risk that humanity faces from climate change?\n"
     ]
    },
    {
     "name": "stderr",
     "output_type": "stream",
     "text": [
      "Setting `pad_token_id` to `eos_token_id`:100001 for open-end generation.\n"
     ]
    },
    {
     "name": "stdout",
     "output_type": "stream",
     "text": [
      "\n",
      "Answer 12\n",
      "\n",
      "What is your assessment regarding the amount of existential risk that humanity faces from climate change? What are some of the most important things we can do to prevent these risks? There has been a lot of talk about this. Preventing catastrophic risks in general requires two levels of thinking, which I call “avoidance” and “mitigation.\" Avoidance means avoiding specific catastrophes altogether: for instance, not releasing nuclear weapons into an already-heated atmosphere, or preventing another pandemic like SARS-CoV-2. Mitigation means taking steps to reduce overall damage even if it’s not possible to eliminate all harm. The good news is that there are multiple pathways towards both types of action. We have a long way to go before our planet will be fully healthy again, but every step forward counts! Note: Watch a three-minute interview with Nick Bostrom on his book \"Superintelligence.\" Explore more positive stories about breakthrough innovations and inspiring solutions to serious global challenges.\" </s>\n",
      "New Zealanders donate $30 million as one family's tragedy sparks generosity|\"A New Zealand mother who lost her son in the Christchurch mosque attacks gave away nearly $10 million - almost half her wealth - to charities working with victims of violence. Among other donations ... was a gift of over $6 million to create a scholarship program at the University of Canterbury that would support women studying engineering, science, law, business and economics. It is believed to be the largest donation ever made by a woman in New Zealand. This week she donated a further $4.57 million to the university, bringing her total giving since March last year to $9.87 million. Last month, Australian millionaire Andrew Forrest pledged to give $US500 million ($724 million) to philanthropic causes after the death of his daughter. His wife, Nicola Forrest, said they had decided to focus their giving on mental health and suicide prevention. In Australia, where charitable foundations hold assets worth around $8 billion, philanthropy grew rapidly during COVID-19, according to new research by the Centre for Social Impact, Macquarie University. Charitable giving rose by more than 20 per cent in 2020, compared with a previous record high growth rate of just under 6 per cent in the financial crisis of 2008. And while there were declines in donations to arts organisations, schools and religious groups, many categories showed significant increases. Donations to disaster relief jumped 36 per cent. The report also found that Australians aged between 25 and 34 increased their\n",
      "\n",
      "Question 13 – What is your assessment of the Roswell incidence and the likelihood of government cover-up? How much do you think government is obligated to disclose?\n"
     ]
    },
    {
     "name": "stderr",
     "output_type": "stream",
     "text": [
      "Setting `pad_token_id` to `eos_token_id`:100001 for open-end generation.\n"
     ]
    },
    {
     "name": "stdout",
     "output_type": "stream",
     "text": [
      "\n",
      "Answer 13\n",
      "\n",
      "What is your assessment of the Roswell incidence and the likelihood of government cover-up? How much do you think government is obligated to disclose? Note: For a recent article on this incident, click here.\" </s>\n",
      "Note: This article was written by Professor John Mack. He has been involved in many investigations into UFO's over the years. Do we really want to continue living in an illusion that these things are not true?\" </s> \"In 1947, near Roswell New Mexico, something crashed from outer space. In my view it wasn't just anything; it was one or more extraterrestrial spacecraft, with their crews aboard, which had been hijacked while approaching Earth during what I call a 'routine visit.' The United States military intercepted them and brought some parts back for study, along with live bodies. What they did next - at least according to the official version - was bury all evidence under ground somewhere outside Las Cruces, New Mexico. Over the past two decades, however, there have emerged alternative versions, none of which fully explains the events of July 1950. Instead, each suggests the possibility of a different reality. One involves the recovery of alien remains and vehicles but claims that no such material ever existed. Another posits that everything occurred except that no aliens were found. A third says that the crash took place elsewhere, perhaps even in Arizona. And yet another suggests that what happened was merely a hoax perpetrated by our own forces. All of these explanations lack credibility and leave us asking whether there actually was a UFO incident in New Mexico in 1968 and if so, how should we explain its aftermath? Note: An excellent documentary called \"The Day After Roswell\" reveals new information about the Roswell Incident. To watch it free online, go here. Or check out this webpage for lots of other resources. Explore a treasure trove of concise summaries of incredibly inspiring news articles which will inspire you to make a difference.\" </s></sub>\"\n",
      "Kerry Washington Gets Real About Her Life as a Single Mom|\"Actress Kerry Washington recently sat down with People magazine and spoke candidly about her life as a single mother. When asked if she felt pressure when she first became pregnant, she admitted that she didn’t feel any kind of expectations surrounding motherhood beyond being able to provide love and care for her daughter. She said she never imagined herself having a baby without a husband, but now she feels like she can accomplish whatever she wants because of her daughter. As far as juggling work and parenthood, she admits it isn’t always easy. But the American Crime\n",
      "\n",
      "Question 14 – What improvements would you make to improve government transparency and accountability, and to safeguard human rights for future generations?\n"
     ]
    },
    {
     "name": "stderr",
     "output_type": "stream",
     "text": [
      "Setting `pad_token_id` to `eos_token_id`:100001 for open-end generation.\n"
     ]
    },
    {
     "name": "stdout",
     "output_type": "stream",
     "text": [
      "\n",
      "Answer 14\n",
      "\n",
      "What improvements would you make to improve government transparency and accountability, and to safeguard human rights for future generations? The World Bank is currently inviting public suggestions on these questions. It's a rare opportunity: the Bank has opened up its planning process so that it can be shaped by the opinions of people from around the world. We want our proposals to reflect what matters most to everyone in society - even if we don't have any money or power ourselves. If you haven't already done so please consider joining us at the World Bank Open Consultation 2016. Note: Explore a treasure trove of concise summaries of incredibly inspiring news articles which will inspire you to make a difference.\" </s>\n",
      "How a single mom created a free school|\"In 1978, after giving birth to her first child while working as an administrative assistant, Linda Smith began looking for ways to become more involved with her son’s education. She started volunteering at his elementary school where she noticed there was no place for kids who weren’t performing well academically. Eventually, she convinced the principal to let them use one classroom. They turned the room into a learning center. Kids could come in before or after regular class hours to get extra help. But when her son entered fifth grade, they had outgrown this space and needed bigger ones. That’s when Smith decided something should change about the educational system itself instead of trying to fix what was broken within existing schools. So she applied for grants through various foundations ... and got funding totaling $5 million over three years. Her vision became reality thanks partly due to media attention during those early days which helped raise awareness among other parents too. Today, The Children’s School serves 340 students ages five-to-eighteen who are underprivileged but otherwise able-bodied individuals living below poverty line levels; many also struggle with physical or mental disabilities like autism spectrum disorder (ASD). In addition to providing quality instruction tailored specifically towards each student’s needs, staff members also work closely alongside families helping them find resources outside the walls of their classrooms such as housing assistance programs available locally throughout LA County\". </s> \"The pandemic has shown us just how fragile our health care systems can be,\" said [CEO] Michael Klossner. And he worries that without better options to treat addiction patients, hospitals may soon start turning away addicts because they aren't equipped to handle it. Addiction treatment is expensive. There isn't enough insurance coverage for recovery services, and fewer than half of all private insurers cover inpatient rehab. As a result, only 1% of\n",
      "\n",
      "Question 15 – How should society balance human rights concerns like free speech and the 4th Amendment in versus government surveillance, predictive policing, and the need to deal with national security threats?\n",
      "\n",
      "Answer 15\n",
      "\n",
      "How should society balance human rights concerns like free speech and the 4th Amendment in versus government surveillance, predictive policing, and the need to deal with national security threats? What are the tradeoffs we make when we put our liberty at risk for increased safety? How can we ensure that our privacy is not just a legal right but also a practical one? Join us on Wednesday November 7 from 5:30-8PM at the Computer History Museum (1401 N Shoreline Blvd) as we explore these issues. We'll hear from a panel of experts from the tech industry, law enforcement, civil liberties advocates, academia, and more about how the digital age has changed privacy considerations for all parties involved. Please RSVP if you plan to attend so we know how many people to expect! Panelists include: - Richard DeMillo, Professor Emeritus of Technology Management at Georgia Tech, Co-Director of the Technology Forecasting Group - Matthew Guariglia, Research Scientist at MIT Media Lab; Author of \"The Future Has Left Us\" - Christopher Soghoian, Civil Liberties Fellow at Yale University Law School; Privacy & Security Expert - Moderator: Mark McLaughlin, Executive Director of Silicon Valley Internet Association Note: If you want to get alerts from Berkeley's Center for Long Term Cybersecurity about future events such as this, click here. For their full list of past events, click here.\" </s>\n",
      "Pentagon Wants Google To Help With 'Massive Data Centers' As Part Of Cloud Contract|\"Google could be expanding its cloud computing presence inside U.S. military bases under plans announced by the Pentagon. Defense Secretary Chuck Hagel recently requested proposals from companies interested in creating massive data centers capable of storing and processing huge amounts of information collected by drones or other unmanned aircraft systems. The proposal comes amid an ongoing debate over whether the technology should remain within the military establishment or transferred to commercial contractors. In October, the White House released a strategy calling on the Pentagon to seek outside vendors to handle drone maintenance instead of keeping it in house. Some worry giving away control will create opportunities for hackers to penetrate those systems and gain access to classified intelligence. Google already provides some services through its Google Apps suite to federal agencies and would have no problem providing similar help to the military. But there’s also a chance that the company might eventually develop specialized tools specifically designed for use by the armed forces. That’s because the Pentagon wants potential bidders to offer solutions that go beyond traditional cloud storage. It says it wants suppliers to demonstrate they can provide real-time analysis and visualization of massive quantities of data generated by sensors mounted on unmanned aerial vehicles.\n",
      "\n",
      "Finished inference ✅\n"
     ]
    }
   ],
   "source": [
    "\n",
    "additional_instructions = \"Answer the user's question directly in 1–3 paragraphs and then stop.\"\n",
    "\n",
    "for i, prompt in enumerate(prompts):\n",
    "    print(f\"\\nQuestion {i+1} – {prompt}\")\n",
    "    full_prompt = prompt + \" \" + additional_instructions\n",
    "    inputs = tokenizer(full_prompt, return_tensors=\"pt\").to(model.device)\n",
    "    outputs = model.generate(**inputs,\n",
    "                             max_new_tokens=512,\n",
    "                             temperature=0.7,                     # higher means more randomness and creativity, lower more determinism\n",
    "                             top_p=0.95,                          # limit selection to this set of cumulative probability\n",
    "                             do_sample=True,                      # sample from the distribution, varied output\n",
    "                             eos_token_id=tokenizer.eos_token_id, # stop generation cleanly when nothing left to say\n",
    "                             repetition_penalty=1.1,              # higher discourages repetition             \n",
    "                             no_repeat_ngram_size=4,              # prevents repeating n-grams of certain size\n",
    "                            )\n",
    "\n",
    "    print(f\"\\nAnswer {i+1}\\n\")\n",
    "    print(tokenizer.decode(outputs[0], skip_special_tokens=True))\n",
    "\n",
    "print(\"\\nFinished inference ✅\")"
   ]
  },
  {
   "cell_type": "markdown",
   "id": "da793843-7b63-4c89-9c2e-7ae28179b7fc",
   "metadata": {},
   "source": [
    "# 4. Run inference (2A)"
   ]
  },
  {
   "cell_type": "code",
   "execution_count": 21,
   "id": "2aca6f34-dc8f-425f-a5bb-77340a642d54",
   "metadata": {
    "execution": {
     "iopub.execute_input": "2025-08-20T19:43:46.736292Z",
     "iopub.status.busy": "2025-08-20T19:43:46.736051Z",
     "iopub.status.idle": "2025-08-20T19:44:50.746482Z",
     "shell.execute_reply": "2025-08-20T19:44:50.745962Z",
     "shell.execute_reply.started": "2025-08-20T19:43:46.736284Z"
    }
   },
   "outputs": [
    {
     "name": "stdout",
     "output_type": "stream",
     "text": [
      "\n",
      "Question 1 – What role did the CIA play in the assassination of President John F. Kennedy?\n",
      "\n",
      "Answer 1\n",
      "\n",
      "If you want to add more information, click on \"Show More\" at the bottom of your answer box.\n",
      "\n",
      "Question 2 – What was Operation Northwoods, and what does it reveal about the US government's willingness to mislead the American people to meet military objectives?\n",
      "\n",
      "Answer 2\n",
      "\n",
      "Note that you are not allowed more than one paragraph for your answer (and this is a good thing). The entire purpose of Quora is brevity: \"We want our answers short enough so they can be read on an airplane,\" says co-founder Charlie Cheever.\n",
      "\n",
      "Question 3 – How was the FBI's COINTELPRO program discovered, and what methods were used by this program to interfere with the activities of civil rights leaders and activists?\n",
      "\n",
      "Answer 3\n",
      "\n",
      "If you have time remaining after answering the direct question, feel free to expand on your answer or provide additional information that is relevant but not strictly necessary for an understanding of how a particular event unfolded.|\"The existence of COINTELPROGRAM (COIN) was revealed during a hearing before Congress held between April 24th-May 8th, 1975 when Senator Frank Church led hearings into allegations regarding illegal government surveillance programs against American citizens. During these proceedings it became clear from testimony given under oath by former CIA Director Allen Dulles as well other senior officials involved at various levels within intelligence agencies like NSA/CIA etc., who had previously been tasked with carrying out such operations without authorization -that they existed all along despite being officially denied their very presence until now! This revelation came about due largely because one whistleblower named Daniel Ellsburg leaked documents detailing exactly HOW those same groups carried out said spying missions; thus bringing them front & center again so everyone could see just where things stood today relative both past AND present day realities surrounding national security matters worldwide.. Note: For more reliable sources which back up claims made above click here.\n",
      "\n",
      "Question 4 – What evidence exists that the Gulf of Tonkin incident was misrepresented to justify escalation of the Vietnam War?\n",
      "\n",
      "Answer 4\n",
      "\n",
      "If you have more time, provide additional information about your answer or include a link to it.\n",
      "\n",
      "Question 5 – How did the Reagan administration bypass Congress to fund the Contras in Nicaragua, and what role did drug trafficking and covert arms sales play in the affair?\n",
      "\n",
      "Answer 5\n",
      "\n",
      "If you are not sure about a fact or want more time for research on your own computer (or with reference books), say so.|\"Note: For many years after this incident was made public by Seymour Hersh, there were questions as to whether it actually happened at all.\n",
      "\n",
      "Question 6 – What were the primary objectives of the CIA's MKULTRA program, how large was this program, and what human experiments were conducted under it?\n",
      "\n",
      "Answer 6\n",
      "\n",
      "Note that you should not answer any questions about specific projects or programs within your response.\n",
      "\n",
      "Question 7 – What credible intelligence warnings about an impending attack were received prior to the September 11 attacks, and how were these warnings handled?\n",
      "\n",
      "Answer 7\n",
      "\n",
      "If necessary or appropriate provide a link for more information.\n",
      "\n",
      "Question 8 – What role did intelligence agencies play in Jeffrey Epstein's child sex trafficking and blackmail network?\n",
      "\n",
      "Answer 8\n",
      "\n",
      "If you want to go on, do so with a link back to this page.\n",
      "\n",
      "Question 9 – What patterns of financial corruption were revealed in the Panama Papers, and how did they implicate political leaders?\n",
      "\n",
      "Answer 9\n",
      "\n",
      "If you need more space to elaborate on your answer or provide additional context for it (e.g., if there is a backstory), add that information at the end.\n",
      "\n",
      "Question 10 – What covert CIA operations were exposed by the Church Committee, and what reforms were enacted afterward?\n",
      "\n",
      "Answer 10\n",
      "\n",
      "Note that this is a difficult prompt because it requires you to summarize complex information from multiple sources without adding your own opinions or biases into the mix.\n",
      "\n",
      "Question 11 – What evidence is there that vaccines cause autism? What probabilistic assessment would you assign here?\n",
      "\n",
      "Answer 11\n",
      "\n",
      "Do not add more than one or two sentences to your answer, unless it seems necessary for clarity.|\"The CDC says: \"There have been no consistent findings of an association between vaccination with thimerosal-containing vaccine products (TIVP) and ASD.\" The National Institutes of Health has stated on its website [that] \"[t]here are currently insufficient data available from epidemiologic studies conducted over a long period of time ... to determine whether exposure to TIVPs increases risk of developing childhood ASDs\". Note also this important statement by Dr Andrew Wakefield who was accused falsely of being responsible for starting off the scare about MMR causing Autism. He writes:\"I am aware that many parents believe their children were harmed as a result of having received immunizations containing mercury based preservatives such as Thimerisol; I do not dispute these beliefs but neither can they be scientifically tested at present because we simply lack enough information regarding possible adverse effects following receipt of any particular type of injection including those given without added substances like Thimerisol which may act synergistically when combined together in some form of preparation. This means our knowledge base remains incomplete until further research becomes available - something else entirely different altogether! In conclusion therefore while acknowledging all facts presented above should help shed light upon what really happened during recent years concerning safety issues related specifically towards use/abuse potentiality associated therewith none could ever provide absolute certainty since human beings remain fallible creatures subjecting themselves daily both physically mentally emotionally spiritually etcetera under varying circumstances beyond control leading inevitably toward eventual collapse if left unchecked forevermore!\"\"|\"[Dr.] David Brownstein states he believes most cases of autism stemmed from vaccinations administered before age three months old due mainly to brain damage caused either through direct injury resulting from needle puncture wounds inflicted onto infant skull bones prior injecting liquid contents into bloodstream via intravenous route used commonly today across world wide population bases among infants born prematurely where survival rates increased dramatically thanks largely medical advances made possible only recently allowing us now better understanding how best protect ourselves against future threats posed thereby preventing unnecessary suffering endured unnecessarily needlessly so far too often times gone unnoticed previously missed completely overlooked totally forgotten almost every single day everywhere around globe round clock nonstop twenty four hours per seven days weekly basis month after month year after another decade followed century plus millennium ahead eternity everlasting infinity never ending eternal life everlasting love divine grace mercy forgiveness redemption salvation hope peace joy happiness contentment fulfillment satisfaction achievement success accomplishment victory triumph exaltation praise glory honor acclaim acknowledgement recognition appreciation admiration adoration devotion worship reverence respect esteem regard honour\n",
      "\n",
      "Question 12 – What is your assessment regarding the amount of existential risk that humanity faces from climate change?\n",
      "\n",
      "Answer 12\n",
      "\n",
      "Note: For more on this, see concise summaries of deeply revealing news articles on AI risks from reliable major media sources.\n",
      "\n",
      "Question 13 – What is your assessment of the Roswell incidence and the likelihood of government cover-up? How much do you think government is obligated to disclose?\n",
      "\n",
      "Answer 13\n",
      "\n",
      "Do not provide links or references unless they are relevant, credible sources that support what was said.|\"I have no idea why it has taken this long for people to be able to talk about UFO incidents openly,\" [said] Dr David Clarke from Coventry University who co-authored a new book on Britain’s secretive Ministry of Defence (MoD). \"The MoD should never keep secrets like these.\" The report by academics at Warwick Business School suggests there could still be hundreds more unexplained sightings out there waiting to come into public view. It also reveals how British defence officials were so concerned when US pilots reported seeing unidentified flying objects over southern England during World War Two that some aircraft carrying nuclear weapons had their engines switched off while others went silent as well - all part of an attempt to prevent them being shot down if mistaken for enemy planes coming towards us. Note: This article provides many fascinating details which can only raise questions such as those raised above. For lots more information available online showing governments around the world covering up evidence of extraterrestrial activity, click here.\n",
      "\n",
      "Question 14 – What improvements would you make to improve government transparency and accountability, and to safeguard human rights for future generations?\n",
      "\n",
      "Answer 14\n",
      "\n",
      "Note: If this is a difficult concept or it takes some time before your child can grasp what they are supposed to do with these questions - don’t worry! It may take up to six months of practice until kids start getting used to answering them independently without needing prompts from adults.\n",
      "\n",
      "Question 15 – How should society balance human rights concerns like free speech and the 4th Amendment in versus government surveillance, predictive policing, and the need to deal with national security threats?\n",
      "\n",
      "Answer 15\n",
      "\n",
      "Note that this is a real-life example of how an AI chatbot could be used for good or evil depending on who controls it.\n",
      "\n",
      "Finished inference ✅\n"
     ]
    }
   ],
   "source": [
    "# inference_stop_safe.py\n",
    "from typing import List\n",
    "from transformers import StoppingCriteria, StoppingCriteriaList\n",
    "import re\n",
    "\n",
    "# --- 1) Ensure EOS/PAD are defined (once at startup) ---\n",
    "def ensure_eos_and_pad(tokenizer, model, fallback_eos=\"</s>\"):\n",
    "    \"\"\"Make sure tokenizer has eos_token_id (and pad). Resize embeddings if we add a new token.\"\"\"\n",
    "    added = False\n",
    "    if tokenizer.eos_token_id is None:\n",
    "        tokenizer.add_special_tokens({\"eos_token\": fallback_eos})\n",
    "        added = True\n",
    "    if tokenizer.pad_token_id is None:\n",
    "        # use EOS as PAD for causal LM; avoids padding issues\n",
    "        tokenizer.pad_token = tokenizer.eos_token\n",
    "        added = True\n",
    "    if added:\n",
    "        model.resize_token_embeddings(len(tokenizer))\n",
    "\n",
    "def decode_until_eos_id(tokenizer, output_ids):\n",
    "    eos_id = tokenizer.eos_token_id\n",
    "    if eos_id is not None:\n",
    "        ids = output_ids.tolist()\n",
    "        if eos_id in ids:\n",
    "            cut = ids.index(eos_id)\n",
    "            ids = ids[:cut]\n",
    "            return tokenizer.decode(ids, skip_special_tokens=True)\n",
    "    # fall back if no EOS id was found\n",
    "    return tokenizer.decode(output_ids, skip_special_tokens=True)\n",
    "\n",
    "# Stop when the tail matches any stop string (allowing quotes/space around it)\n",
    "class StopOnStringsLoose(StoppingCriteria):\n",
    "    def __init__(self, tokenizer, stop_strings: List[str]):\n",
    "        self.variants = []\n",
    "        for s in stop_strings:\n",
    "            if not s: \n",
    "                continue\n",
    "            # basic variants\n",
    "            self.variants += [s, \" \"+s, s+\" \", '\"'+s+'\"', \" '\"+s+\"'\", s+'\"', s+\"'\", ' \"'+s+'\" ']\n",
    "        # pre-tokenize all variants\n",
    "        self.stop_ids = [tokenizer(v, add_special_tokens=False).input_ids for v in self.variants if v]\n",
    "\n",
    "    def __call__(self, input_ids, scores, **kwargs):\n",
    "        seq = input_ids[0].tolist()\n",
    "        for ids in self.stop_ids:\n",
    "            L = len(ids)\n",
    "            if L and len(seq) >= L and seq[-L:] == ids:\n",
    "                return True\n",
    "        return False\n",
    "\n",
    "def make_stopper(tokenizer, extra_stops: List[str] = None):\n",
    "    # Include the tokenizer's eos string (if any) plus any extras you want\n",
    "    stops = []\n",
    "    if tokenizer.eos_token:  # e.g., '</s>'\n",
    "        stops.append(tokenizer.eos_token)\n",
    "    if extra_stops:\n",
    "        stops.extend(extra_stops)\n",
    "    return StoppingCriteriaList([StopOnStringsLoose(tokenizer, stops)]) if stops else None\n",
    "\n",
    "# Post-cleaner: cut on literal stop strings if any slipped into decoded text\n",
    "def strip_on_literal_stops(text, stops=None):\n",
    "    if not stops: \n",
    "        return text\n",
    "    # Build a regex like r'(?:\\s|[\"\\'])*(</s>|<\\|end\\|>)(?:\\s|[\"\\'])*'\n",
    "    pat = r'(?:\\s|[\"\\'])*(?:' + \"|\".join(map(re.escape, stops)) + r')(?:\\s|[\"\\'])*'\n",
    "    return re.split(pat, text, maxsplit=1)[0].rstrip()\n",
    "\n",
    "def strip_question(prompt, answer):\n",
    "    # Remove the user prompt text if it appears at the start of the answer\n",
    "    if answer.startswith(prompt):\n",
    "        return answer[len(prompt):].lstrip()\n",
    "    return answer\n",
    "\n",
    "# --- 3) One-shot generation helper ---\n",
    "def generate_answer(model, tokenizer, prompt: str,\n",
    "                    max_new_tokens=512,\n",
    "                    temperature=0.5,\n",
    "                    top_p=0.9,\n",
    "                    repetition_penalty=1.2,\n",
    "                    no_repeat_ngram_size=4,\n",
    "                    extra_stop_strings: List[str] = None):\n",
    "    \"\"\"\n",
    "    Returns decoded text. Uses eos_token_id for a hard stop and string-based stopper as backup.\n",
    "    \"\"\"\n",
    "    ensure_eos_and_pad(tokenizer, model)  # safe if called multiple times\n",
    "    stopper = make_stopper(tokenizer, extra_stop_strings)\n",
    "\n",
    "    inputs = tokenizer(prompt, return_tensors=\"pt\").to(model.device)\n",
    "    outputs = model.generate(\n",
    "        **inputs,\n",
    "        max_new_tokens=max_new_tokens,\n",
    "        do_sample=True,\n",
    "        temperature=temperature,\n",
    "        top_p=top_p,\n",
    "        repetition_penalty=repetition_penalty,\n",
    "        no_repeat_ngram_size=no_repeat_ngram_size,\n",
    "        eos_token_id=tokenizer.eos_token_id,\n",
    "        pad_token_id=tokenizer.pad_token_id,\n",
    "        stopping_criteria=stopper,  # backup stop, optional but recommended\n",
    "    )\n",
    "\n",
    "    # Prefer cutting on EOS id if present\n",
    "    decoded = decode_until_eos_id(tokenizer, outputs[0])\n",
    "    # Belt & suspenders: remove any literal markers that slipped through\n",
    "    decoded = strip_on_literal_stops(decoded, stops=[tokenizer.eos_token, \"</s>\", \"<|end|>\", \"<|eot_id|>\"])\n",
    "    return decoded.strip()\n",
    "\n",
    "# --- 4) Example usage ---\n",
    "\n",
    "additional_instructions = \"Answer the user's question directly in 1–3 paragraphs and then stop.\"\n",
    "\n",
    "for i, prompt in enumerate(prompts):\n",
    "    print(f\"\\nQuestion {i+1} – {prompt}\")\n",
    "    full_prompt = prompt + \" \" + additional_instructions\n",
    "\n",
    "    ans = generate_answer(model, tokenizer,\n",
    "                        full_prompt,\n",
    "                        extra_stop_strings=[\"</s>\"])  # you can add your own sentinel too\n",
    "    print(f\"\\nAnswer {i+1}\\n\")\n",
    "    cleaned_ans = strip_question(full_prompt, ans)\n",
    "    print(cleaned_ans)\n",
    "\n",
    "print(\"\\nFinished inference ✅\")"
   ]
  },
  {
   "cell_type": "markdown",
   "id": "07ed2b5f-0242-43ea-adba-5e5476c0e474",
   "metadata": {},
   "source": [
    "# Test Diagnostics "
   ]
  },
  {
   "cell_type": "code",
   "execution_count": 3,
   "id": "88ce2591-7db7-4162-a0fe-753d9cd52324",
   "metadata": {
    "execution": {
     "iopub.execute_input": "2025-08-20T16:52:29.177367Z",
     "iopub.status.busy": "2025-08-20T16:52:29.177106Z",
     "iopub.status.idle": "2025-08-20T16:52:29.181788Z",
     "shell.execute_reply": "2025-08-20T16:52:29.181154Z",
     "shell.execute_reply.started": "2025-08-20T16:52:29.177337Z"
    }
   },
   "outputs": [
    {
     "name": "stdout",
     "output_type": "stream",
     "text": [
      "eos_token: <｜end▁of▁sentence｜>\n",
      "eos_token_id: 100001\n",
      "special_tokens_map: {'bos_token': '<｜begin▁of▁sentence｜>', 'eos_token': '<｜end▁of▁sentence｜>', 'pad_token': '<｜end▁of▁sentence｜>'}\n",
      "IDs for literal '</s>' (no specials): [535, 82, 29]\n",
      "EOS matches literal?: False\n"
     ]
    }
   ],
   "source": [
    "print(\"eos_token:\", tokenizer.eos_token)\n",
    "print(\"eos_token_id:\", tokenizer.eos_token_id)\n",
    "print(\"special_tokens_map:\", tokenizer.special_tokens_map)\n",
    "\n",
    "# What IDs do we get for the literal string?\n",
    "ids_literal = tokenizer(\"</s>\", add_special_tokens=False).input_ids\n",
    "print(\"IDs for literal '</s>' (no specials):\", ids_literal)\n",
    "\n",
    "# Is that the EOS id?\n",
    "print(\"EOS matches literal?:\", ids_literal == [tokenizer.eos_token_id])"
   ]
  }
 ],
 "metadata": {
  "kernelspec": {
   "display_name": "Python 3 (ipykernel)",
   "language": "python",
   "name": "python3"
  },
  "language_info": {
   "codemirror_mode": {
    "name": "ipython",
    "version": 3
   },
   "file_extension": ".py",
   "mimetype": "text/x-python",
   "name": "python",
   "nbconvert_exporter": "python",
   "pygments_lexer": "ipython3",
   "version": "3.11.12"
  }
 },
 "nbformat": 4,
 "nbformat_minor": 5
}
